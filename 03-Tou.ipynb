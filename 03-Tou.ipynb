{
 "cells": [
  {
   "cell_type": "markdown",
   "metadata": {},
   "source": [
    "### Requirements"
   ]
  },
  {
   "cell_type": "code",
   "execution_count": 1,
   "metadata": {
    "collapsed": true
   },
   "outputs": [],
   "source": [
    "import glob\n",
    "import re\n",
    "import pandas as pd\n",
    "import matplotlib.pyplot as plt\n",
    "import seaborn as sns\n",
    "import numpy as np"
   ]
  },
  {
   "cell_type": "markdown",
   "metadata": {},
   "source": [
    "### Create a csv file for manual data collection (individual Twitter accounts)"
   ]
  },
  {
   "cell_type": "code",
   "execution_count": 89,
   "metadata": {
    "collapsed": true
   },
   "outputs": [],
   "source": [
    "file_list = glob.glob('./twitter_data/*_indi_*.csv')\n",
    "hospital_rank = []\n",
    "hospital_no = re.compile(r'\\d+')\n",
    "for i in range(len(file_list)):\n",
    "    hospital_rank.append(hospital_no.findall(file_list[i])[0])"
   ]
  },
  {
   "cell_type": "code",
   "execution_count": 122,
   "metadata": {
    "collapsed": true
   },
   "outputs": [],
   "source": [
    "handles = []\n",
    "for i in file_list:\n",
    "    j = file_list.index(i)\n",
    "    if re.findall(r'@', i):\n",
    "        handles.append(re.findall(r'@\\w+', file_list[j])[0].strip('@'))\n",
    "    else:\n",
    "        handles.append(re.sub(r'\\d+_', '', re.findall(r'\\d+_\\w+', file_list[j])[0]))"
   ]
  },
  {
   "cell_type": "code",
   "execution_count": 129,
   "metadata": {
    "collapsed": true
   },
   "outputs": [],
   "source": [
    "data = pd.DataFrame()\n",
    "hospital_code = pd.Series(hospital_rank)\n",
    "data['Hospital Code'] = hospital_code.values\n",
    "indi_handles = pd.Series(handles)\n",
    "data['Handles'] = indi_handles.values\n",
    "data.to_csv('./indi_handles.csv')"
   ]
  },
  {
   "cell_type": "markdown",
   "metadata": {},
   "source": [
    "### Import the data back to the notebook"
   ]
  },
  {
   "cell_type": "code",
   "execution_count": 5,
   "metadata": {
    "collapsed": true
   },
   "outputs": [],
   "source": [
    "account_type = pd.read_csv('./indi_handles.csv', index_col = 0)"
   ]
  },
  {
   "cell_type": "code",
   "execution_count": 6,
   "metadata": {},
   "outputs": [
    {
     "name": "stderr",
     "output_type": "stream",
     "text": [
      "/Users/reesetou/anaconda2/envs/py35/lib/python3.5/site-packages/ipykernel_launcher.py:3: SettingWithCopyWarning: \n",
      "A value is trying to be set on a copy of a slice from a DataFrame\n",
      "\n",
      "See the caveats in the documentation: http://pandas.pydata.org/pandas-docs/stable/indexing.html#indexing-view-versus-copy\n",
      "  This is separate from the ipykernel package so we can avoid doing imports until\n",
      "/Users/reesetou/anaconda2/envs/py35/lib/python3.5/site-packages/pandas/core/generic.py:7620: SettingWithCopyWarning: \n",
      "A value is trying to be set on a copy of a slice from a DataFrame\n",
      "\n",
      "See the caveats in the documentation: http://pandas.pydata.org/pandas-docs/stable/indexing.html#indexing-view-versus-copy\n",
      "  self._update_inplace(new_data)\n",
      "/Users/reesetou/anaconda2/envs/py35/lib/python3.5/site-packages/IPython/core/interactiveshell.py:2910: SettingWithCopyWarning: \n",
      "A value is trying to be set on a copy of a slice from a DataFrame\n",
      "\n",
      "See the caveats in the documentation: http://pandas.pydata.org/pandas-docs/stable/indexing.html#indexing-view-versus-copy\n",
      "  exec(code_obj, self.user_global_ns, self.user_ns)\n"
     ]
    }
   ],
   "source": [
    "clean_data = account_type[(account_type.Degree == 'PhD') | (account_type.Degree == 'MD') | \n",
    "                          (account_type.Degree == 'MD, PhD') | (account_type.Degree == 'ABD')]\n",
    "clean_data['Degree'][clean_data['Degree'] == 'ABD'] = 'PhD'"
   ]
  },
  {
   "cell_type": "markdown",
   "metadata": {},
   "source": [
    "### Number of MD, PhD, and MD/PhD each hospital has that uses Twitter"
   ]
  },
  {
   "cell_type": "code",
   "execution_count": 7,
   "metadata": {},
   "outputs": [
    {
     "data": {
      "image/png": "[encoded data removed]",
      "text/plain": [
       "<Figure size 432x288 with 1 Axes>"
      ]
     },
     "metadata": {},
     "output_type": "display_data"
    }
   ],
   "source": [
    "palette = ['#69813A', '#E24301', '#8E8F90']\n",
    "current_palette = sns.color_palette(palette)\n",
    "sns.countplot(x = \"Hospital Code\", hue = 'Degree', data = clean_data, palette = current_palette)\n",
    "plt.legend(loc = 'upper right', bbox_to_anchor=(0.9, 1))\n",
    "plt.title('Number of MD, PhD, and MD/PhD Twitter Users \\n Affliciated to the U.S. Top 20 Hospitals')\n",
    "plt.show()"
   ]
  },
  {
   "cell_type": "code",
   "execution_count": 202,
   "metadata": {
    "collapsed": true
   },
   "outputs": [],
   "source": [
    "sorted_data = clean_data.sort_values('Hospital Code')\n",
    "wide_data = pd.DataFrame({'Hospital Code': [i for i in range(1, 21)], 'Handle Number': np.nan, 'MD Number': np.nan,\n",
    "                          'PhD Number': np.nan})"
   ]
  },
  {
   "cell_type": "code",
   "execution_count": 214,
   "metadata": {},
   "outputs": [
    {
     "name": "stderr",
     "output_type": "stream",
     "text": [
      "/Users/reesetou/anaconda2/envs/py35/lib/python3.5/site-packages/ipykernel_launcher.py:26: SettingWithCopyWarning: \n",
      "A value is trying to be set on a copy of a slice from a DataFrame\n",
      "\n",
      "See the caveats in the documentation: http://pandas.pydata.org/pandas-docs/stable/indexing.html#indexing-view-versus-copy\n",
      "/Users/reesetou/anaconda2/envs/py35/lib/python3.5/site-packages/ipykernel_launcher.py:27: SettingWithCopyWarning: \n",
      "A value is trying to be set on a copy of a slice from a DataFrame\n",
      "\n",
      "See the caveats in the documentation: http://pandas.pydata.org/pandas-docs/stable/indexing.html#indexing-view-versus-copy\n",
      "/Users/reesetou/anaconda2/envs/py35/lib/python3.5/site-packages/ipykernel_launcher.py:28: SettingWithCopyWarning: \n",
      "A value is trying to be set on a copy of a slice from a DataFrame\n",
      "\n",
      "See the caveats in the documentation: http://pandas.pydata.org/pandas-docs/stable/indexing.html#indexing-view-versus-copy\n"
     ]
    },
    {
     "data": {
      "text/html": [
       "<div>\n",
       "<style scoped>\n",
       "    .dataframe tbody tr th:only-of-type {\n",
       "        vertical-align: middle;\n",
       "    }\n",
       "\n",
       "    .dataframe tbody tr th {\n",
       "        vertical-align: top;\n",
       "    }\n",
       "\n",
       "    .dataframe thead th {\n",
       "        text-align: right;\n",
       "    }\n",
       "</style>\n",
       "<table border=\"1\" class=\"dataframe\">\n",
       "  <thead>\n",
       "    <tr style=\"text-align: right;\">\n",
       "      <th></th>\n",
       "      <th>Handle Number</th>\n",
       "      <th>Hospital Code</th>\n",
       "      <th>MD Number</th>\n",
       "      <th>PhD Number</th>\n",
       "    </tr>\n",
       "  </thead>\n",
       "  <tbody>\n",
       "    <tr>\n",
       "      <th>Handle Number</th>\n",
       "      <td>1.000000</td>\n",
       "      <td>-0.111615</td>\n",
       "      <td>0.942679</td>\n",
       "      <td>0.326457</td>\n",
       "    </tr>\n",
       "    <tr>\n",
       "      <th>Hospital Code</th>\n",
       "      <td>-0.111615</td>\n",
       "      <td>1.000000</td>\n",
       "      <td>-0.115143</td>\n",
       "      <td>-0.190885</td>\n",
       "    </tr>\n",
       "    <tr>\n",
       "      <th>MD Number</th>\n",
       "      <td>0.942679</td>\n",
       "      <td>-0.115143</td>\n",
       "      <td>1.000000</td>\n",
       "      <td>0.022452</td>\n",
       "    </tr>\n",
       "    <tr>\n",
       "      <th>PhD Number</th>\n",
       "      <td>0.326457</td>\n",
       "      <td>-0.190885</td>\n",
       "      <td>0.022452</td>\n",
       "      <td>1.000000</td>\n",
       "    </tr>\n",
       "  </tbody>\n",
       "</table>\n",
       "</div>"
      ],
      "text/plain": [
       "               Handle Number  Hospital Code  MD Number  PhD Number\n",
       "Handle Number       1.000000      -0.111615   0.942679    0.326457\n",
       "Hospital Code      -0.111615       1.000000  -0.115143   -0.190885\n",
       "MD Number           0.942679      -0.115143   1.000000    0.022452\n",
       "PhD Number          0.326457      -0.190885   0.022452    1.000000"
      ]
     },
     "execution_count": 214,
     "metadata": {},
     "output_type": "execute_result"
    }
   ],
   "source": [
    "def calculate_total_number(hospital_code):\n",
    "    total_number = 0\n",
    "    for i in range(len(sorted_data)):\n",
    "        if sorted_data['Hospital Code'].iloc[i] == hospital_code:\n",
    "            total_number += 1\n",
    "    return total_number\n",
    "\n",
    "def calculate_MD_number(hospital_code):\n",
    "    MD_number = 0\n",
    "    for i in range(len(sorted_data)):\n",
    "        if sorted_data['Hospital Code'].iloc[i] == hospital_code:\n",
    "            if (sorted_data['Degree'].iloc[i] == 'MD')|(sorted_data['Degree'].iloc[i] == 'MD, PhD'):\n",
    "                MD_number += 1\n",
    "    return MD_number\n",
    "\n",
    "def calculate_PhD_number(hospital_code):\n",
    "    PhD_number = 0\n",
    "    for i in range(len(sorted_data)):\n",
    "        if sorted_data['Hospital Code'].iloc[i] == hospital_code:\n",
    "            if (sorted_data['Degree'].iloc[i] == 'PhD')|(sorted_data['Degree'].iloc[i] == 'MD, PhD'):\n",
    "                PhD_number += 1\n",
    "    return PhD_number\n",
    "for i in range(20):\n",
    "    j = i + 1\n",
    "    if wide_data['Hospital Code'][i] == j:\n",
    "        wide_data['Handle Number'][i] = calculate_total_number(j)\n",
    "        wide_data['MD Number'][i] = calculate_MD_number(j)\n",
    "        wide_data['PhD Number'][i] = calculate_PhD_number(j)\n",
    "wide_data.corr()"
   ]
  },
  {
   "cell_type": "markdown",
   "metadata": {},
   "source": [
    "### Scatter plot between hospital ranking and total number of individual Twitter accounts"
   ]
  },
  {
   "cell_type": "code",
   "execution_count": 231,
   "metadata": {},
   "outputs": [
    {
     "data": {
      "image/png": "[encoded data removed]",
      "text/plain": [
       "<Figure size 432x288 with 1 Axes>"
      ]
     },
     "metadata": {},
     "output_type": "display_data"
    }
   ],
   "source": [
    "sns.stripplot(data = wide_data, x = 'Hospital Code', y = 'Handle Number', color = \"#3498db\")\n",
    "plt.show()"
   ]
  },
  {
   "cell_type": "markdown",
   "metadata": {},
   "source": [
    "### Scatter plot between hospital ranking and number of MD's Twitter accounts"
   ]
  },
  {
   "cell_type": "code",
   "execution_count": 232,
   "metadata": {},
   "outputs": [
    {
     "data": {
      "image/png": "[encoded data removed]",
      "text/plain": [
       "<Figure size 432x288 with 1 Axes>"
      ]
     },
     "metadata": {},
     "output_type": "display_data"
    }
   ],
   "source": [
    "sns.stripplot(data = wide_data, x = 'Hospital Code', y = 'MD Number', color = \"#3498db\")\n",
    "plt.show()"
   ]
  },
  {
   "cell_type": "markdown",
   "metadata": {},
   "source": [
    "### Scatter plot between hospital ranking and total number of PhD's Twitter accounts"
   ]
  },
  {
   "cell_type": "code",
   "execution_count": 233,
   "metadata": {},
   "outputs": [
    {
     "data": {
      "image/png": "[encoded data removed]",
      "text/plain": [
       "<Figure size 432x288 with 1 Axes>"
      ]
     },
     "metadata": {},
     "output_type": "display_data"
    }
   ],
   "source": [
    "sns.stripplot(data = wide_data, x = 'Hospital Code', y = 'PhD Number', color = \"#3498db\")\n",
    "plt.show()"
   ]
  }
 ],
 "metadata": {
  "kernelspec": {
   "display_name": "python3.5",
   "language": "python",
   "name": "python3.5"
  },
  "language_info": {
   "codemirror_mode": {
    "name": "ipython",
    "version": 3
   },
   "file_extension": ".py",
   "mimetype": "text/x-python",
   "name": "python",
   "nbconvert_exporter": "python",
   "pygments_lexer": "ipython3",
   "version": "3.5.4"
  }
 },
 "nbformat": 4,
 "nbformat_minor": 2
}
